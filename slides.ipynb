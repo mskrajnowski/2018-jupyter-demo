{
 "cells": [
  {
   "cell_type": "markdown",
   "metadata": {
    "slideshow": {
     "slide_type": "slide"
    }
   },
   "source": [
    "![Jupyter logo](https://cdn-images-1.medium.com/max/1600/1*LPnY8nOLg4S6_TG0DEXwsg.png)"
   ]
  },
  {
   "cell_type": "markdown",
   "metadata": {
    "slideshow": {
     "slide_type": "slide"
    }
   },
   "source": [
    "# Plan\n",
    "\n",
    "1. Huh?\n",
    "2. Awesome!\n",
    "3. Wait, what!?\n",
    "3. Links\n",
    "4. Questions"
   ]
  },
  {
   "cell_type": "markdown",
   "metadata": {
    "slideshow": {
     "slide_type": "slide"
    }
   },
   "source": [
    "# So what is Jupyter\n",
    "\n",
    "1. REPL on steroids\n",
    "2. Experiments\n",
    "3. Visualization\n",
    "4. Presentations (code heavy)"
   ]
  },
  {
   "cell_type": "markdown",
   "metadata": {
    "slideshow": {
     "slide_type": "slide"
    }
   },
   "source": [
    "# Links\n",
    "\n",
    "1. [Jupyter](http://jupyter.org/)\n",
    "2. [Lab](https://jupyterlab.readthedocs.io/en/latest/)\n",
    "3. [Notebook](https://jupyter-notebook.readthedocs.io/en/stable/)\n",
    "4. [Docker Stacks](https://jupyter-docker-stacks.readthedocs.io/en/latest/)\n",
    "5. [Community Kernels](https://github.com/jupyter/jupyter/wiki/Jupyter-kernels)\n",
    "6. [RISE extension](https://damianavila.github.io/RISE/index.html)\n",
    "7. [jupyter-demo repo](https://github.com/mskrajnowski/jupyter-demo)"
   ]
  },
  {
   "cell_type": "markdown",
   "metadata": {
    "slideshow": {
     "slide_type": "slide"
    }
   },
   "source": [
    "# Questions?"
   ]
  },
  {
   "cell_type": "markdown",
   "metadata": {
    "slideshow": {
     "slide_type": "slide"
    }
   },
   "source": [
    "# Thanks"
   ]
  }
 ],
 "metadata": {
  "celltoolbar": "Slideshow",
  "kernelspec": {
   "display_name": "Python 3",
   "language": "python",
   "name": "python3"
  },
  "language_info": {
   "codemirror_mode": {
    "name": "ipython",
    "version": 3
   },
   "file_extension": ".py",
   "mimetype": "text/x-python",
   "name": "python",
   "nbconvert_exporter": "python",
   "pygments_lexer": "ipython3",
   "version": "3.6.6"
  }
 },
 "nbformat": 4,
 "nbformat_minor": 2
}
